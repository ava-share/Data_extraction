{
 "cells": [
  {
   "cell_type": "code",
   "execution_count": 1,
   "metadata": {},
   "outputs": [],
   "source": [
    "import pandas as pd\n",
    "import os\n"
   ]
  },
  {
   "cell_type": "code",
   "execution_count": 7,
   "metadata": {},
   "outputs": [
    {
     "name": "stderr",
     "output_type": "stream",
     "text": [
      "/var/folders/dx/172wnqjd3f565j4t4s9sp_4c0000gn/T/ipykernel_43544/3637178794.py:18: FutureWarning: The frame.append method is deprecated and will be removed from pandas in a future version. Use pandas.concat instead.\n",
      "  combined_data = combined_data.append(data, ignore_index=True)\n",
      "/var/folders/dx/172wnqjd3f565j4t4s9sp_4c0000gn/T/ipykernel_43544/3637178794.py:18: FutureWarning: The frame.append method is deprecated and will be removed from pandas in a future version. Use pandas.concat instead.\n",
      "  combined_data = combined_data.append(data, ignore_index=True)\n",
      "/var/folders/dx/172wnqjd3f565j4t4s9sp_4c0000gn/T/ipykernel_43544/3637178794.py:18: FutureWarning: The frame.append method is deprecated and will be removed from pandas in a future version. Use pandas.concat instead.\n",
      "  combined_data = combined_data.append(data, ignore_index=True)\n",
      "/var/folders/dx/172wnqjd3f565j4t4s9sp_4c0000gn/T/ipykernel_43544/3637178794.py:18: FutureWarning: The frame.append method is deprecated and will be removed from pandas in a future version. Use pandas.concat instead.\n",
      "  combined_data = combined_data.append(data, ignore_index=True)\n",
      "/var/folders/dx/172wnqjd3f565j4t4s9sp_4c0000gn/T/ipykernel_43544/3637178794.py:18: FutureWarning: The frame.append method is deprecated and will be removed from pandas in a future version. Use pandas.concat instead.\n",
      "  combined_data = combined_data.append(data, ignore_index=True)\n",
      "/var/folders/dx/172wnqjd3f565j4t4s9sp_4c0000gn/T/ipykernel_43544/3637178794.py:18: FutureWarning: The frame.append method is deprecated and will be removed from pandas in a future version. Use pandas.concat instead.\n",
      "  combined_data = combined_data.append(data, ignore_index=True)\n",
      "/var/folders/dx/172wnqjd3f565j4t4s9sp_4c0000gn/T/ipykernel_43544/3637178794.py:18: FutureWarning: The frame.append method is deprecated and will be removed from pandas in a future version. Use pandas.concat instead.\n",
      "  combined_data = combined_data.append(data, ignore_index=True)\n",
      "/var/folders/dx/172wnqjd3f565j4t4s9sp_4c0000gn/T/ipykernel_43544/3637178794.py:18: FutureWarning: The frame.append method is deprecated and will be removed from pandas in a future version. Use pandas.concat instead.\n",
      "  combined_data = combined_data.append(data, ignore_index=True)\n"
     ]
    }
   ],
   "source": [
    "\n",
    "# Set the directory containing the CSV files\n",
    "folder_path = 'raw_gps/'\n",
    "\n",
    "# Get a list of all the CSV files in the directory\n",
    "file_list = [file for file in os.listdir(folder_path) if file.endswith('.csv')]\n",
    "\n",
    "# Read the header from the first file\n",
    "first_file_path = os.path.join(folder_path, file_list[0])\n",
    "header = pd.read_csv(first_file_path, nrows=0).columns\n",
    "\n",
    "# Initialize an empty DataFrame to store the combined data\n",
    "combined_data = pd.DataFrame(columns=header)\n",
    "\n",
    "# Iterate through the remaining files and append their data to the combined DataFrame\n",
    "for file_name in file_list:\n",
    "    file_path = os.path.join(folder_path, file_name)\n",
    "    data = pd.read_csv(file_path)\n",
    "    combined_data = combined_data.append(data, ignore_index=True)\n",
    "\n",
    "# Save the combined data to a new CSV file\n",
    "combined_file_path = os.path.join(folder_path, 'combined_gpsdata.csv')\n",
    "combined_data.to_csv(combined_file_path, index=False)\n"
   ]
  },
  {
   "attachments": {},
   "cell_type": "markdown",
   "metadata": {},
   "source": [
    "### Keep the useful columns "
   ]
  },
  {
   "cell_type": "code",
   "execution_count": 11,
   "metadata": {},
   "outputs": [],
   "source": [
    "# Read the CSV file\n",
    "df = pd.read_csv('raw_gps/combined_gpsdata.csv')\n",
    "\n",
    "# Select the desired columns\n",
    "df = df[['rosbagTimestamp', 'seq', 'secs', 'nsecs', 'x', 'y', 'z', 'x.1', 'y.1', 'z.1', 'w']]\n",
    "\n",
    "# Rename the columns\n",
    "df = df.rename(columns={'x': 'position_x', 'y': 'position_y', 'z': 'position_z',\n",
    "                        'x.1': 'orientation_x', 'y.1': 'orientation_y', 'z.1': 'orientation_z', 'w': 'orientation_w'})\n",
    "\n",
    "# Order the DataFrame by seq\n",
    "df = df.sort_values(by='seq')\n",
    "\n",
    "# Save the modified DataFrame to a new CSV file\n",
    "df.to_csv('utm_corr.csv', index=False)"
   ]
  },
  {
   "attachments": {},
   "cell_type": "markdown",
   "metadata": {},
   "source": [
    "### Trucate the rosbagTimestamp, leave out the first six digit"
   ]
  },
  {
   "cell_type": "code",
   "execution_count": 12,
   "metadata": {},
   "outputs": [],
   "source": [
    "df = pd.read_csv('utm_corr.csv')\n",
    "\n",
    "# Truncate the rosbagTimestamp column\n",
    "df['rosbagTimestamp'] = df['rosbagTimestamp'].astype(str).str[6:]\n",
    "\n",
    "# Save the modified DataFrame to a new CSV file\n",
    "df.to_csv('utm_corr_trunc.csv', index=False)"
   ]
  },
  {
   "cell_type": "code",
   "execution_count": null,
   "metadata": {},
   "outputs": [],
   "source": []
  }
 ],
 "metadata": {
  "kernelspec": {
   "display_name": "base",
   "language": "python",
   "name": "python3"
  },
  "language_info": {
   "codemirror_mode": {
    "name": "ipython",
    "version": 3
   },
   "file_extension": ".py",
   "mimetype": "text/x-python",
   "name": "python",
   "nbconvert_exporter": "python",
   "pygments_lexer": "ipython3",
   "version": "3.10.9"
  },
  "orig_nbformat": 4
 },
 "nbformat": 4,
 "nbformat_minor": 2
}
